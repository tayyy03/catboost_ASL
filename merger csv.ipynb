{
 "cells": [
  {
   "cell_type": "code",
   "execution_count": 6,
   "metadata": {},
   "outputs": [],
   "source": [
    "import os\n",
    "import pandas as pd\n",
    "\n",
    "DIRECTORY = \"D:/dataset/viscom/TA/extracted vid\"\n",
    "FILES = [os.path.join(DIRECTORY, file) for file in os.listdir(DIRECTORY) if \"csv\" in file]\n",
    "FILES.sort()\n",
    "\n",
    "df = pd.read_csv(FILES.pop(0), index_col=0)\n",
    "\n",
    "for file in FILES:\n",
    "    df = pd.concat([df, pd.read_csv(file, index_col=0)], ignore_index=True)\n",
    "\n",
    "df.to_csv(\"D:/dataset/viscom/TA/data.csv\", index=False)"
   ]
  }
 ],
 "metadata": {
  "kernelspec": {
   "display_name": "Python_myenv_kernel",
   "language": "python",
   "name": "myenv"
  },
  "language_info": {
   "codemirror_mode": {
    "name": "ipython",
    "version": 3
   },
   "file_extension": ".py",
   "mimetype": "text/x-python",
   "name": "python",
   "nbconvert_exporter": "python",
   "pygments_lexer": "ipython3",
   "version": "3.11.5"
  }
 },
 "nbformat": 4,
 "nbformat_minor": 2
}
